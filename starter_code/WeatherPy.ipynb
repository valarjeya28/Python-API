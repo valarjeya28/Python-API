{
 "cells": [
  {
   "cell_type": "markdown",
   "metadata": {},
   "source": [
    "# WeatherPy\n",
    "----\n",
    "\n",
    "### Analysis\n",
    "* As expected, the weather becomes significantly warmer as one approaches the equator (0 Deg. Latitude). More interestingly, however, is the fact that the southern hemisphere tends to be warmer this time of year than the northern hemisphere. This may be due to the tilt of the earth.\n",
    "* There is no strong relationship between latitude and cloudiness. However, it is interesting to see that a strong band of cities sits at 0, 80, and 100% cloudiness.\n",
    "* There is no strong relationship between latitude and wind speed. However, in northern hemispheres there is a flurry of cities with over 20 mph of wind.\n",
    "\n",
    "---\n",
    "\n",
    "#### Note\n",
    "* Instructions have been included for each segment. You do not have to follow them exactly, but they are included to help you think through the steps."
   ]
  },
  {
   "cell_type": "code",
   "execution_count": 2,
   "metadata": {
    "scrolled": true
   },
   "outputs": [],
   "source": [
    "# Dependencies and Setup\n",
    "\n",
    "import matplotlib.pyplot as plt\n",
    "import pandas as pd\n",
    "import numpy as np\n",
    "import requests\n",
    "import time\n",
    "\n",
    "# Import API key\n",
    "from api_keys import api_key\n",
    "\n",
    "# Incorporated citipy to determine city based on latitude and longitude\n",
    "from citipy import citipy\n",
    "\n",
    "# Output File (CSV)\n",
    "output_data_file = \"output_data/cities.csv\"\n",
    "\n",
    "# Range of latitudes and longitudes\n",
    "lat_range = (-90, 90)\n",
    "lng_range = (-180, 180)"
   ]
  },
  {
   "cell_type": "markdown",
   "metadata": {},
   "source": [
    "## Generate Cities List"
   ]
  },
  {
   "cell_type": "code",
   "execution_count": 3,
   "metadata": {},
   "outputs": [
    {
     "data": {
      "text/plain": [
       "612"
      ]
     },
     "execution_count": 3,
     "metadata": {},
     "output_type": "execute_result"
    }
   ],
   "source": [
    "# List for holding lat_lngs and cities\n",
    "lat_lngs = []\n",
    "cities = []\n",
    "\n",
    "# Create a set of random lat and lng combinations\n",
    "lats = np.random.uniform(low=-90.000, high=90.000, size=1500)\n",
    "lngs = np.random.uniform(low=-180.000, high=180.000, size=1500)\n",
    "lat_lngs = zip(lats, lngs)\n",
    "\n",
    "# Identify nearest city for each lat, lng combination\n",
    "for lat_lng in lat_lngs:\n",
    "    city = citipy.nearest_city(lat_lng[0], lat_lng[1]).city_name\n",
    "   # print (city)\n",
    "    # If the city is unique, then add it to a our cities list\n",
    "    if city not in cities:\n",
    "        cities.append(city)\n",
    "\n",
    "# Print the city count to confirm sufficient count\n",
    "\n",
    "len(cities)\n"
   ]
  },
  {
   "cell_type": "markdown",
   "metadata": {},
   "source": [
    "### Perform API Calls\n",
    "* Perform a weather check on each city using a series of successive API calls.\n",
    "* Include a print log of each city as it'sbeing processed (with the city number and city name).\n"
   ]
  },
  {
   "cell_type": "code",
   "execution_count": 4,
   "metadata": {},
   "outputs": [
    {
     "data": {
      "text/plain": [
       "'http://api.openweathermap.org/data/2.5/weather?units=Imperial&APPID=45dd0a2ef6784d9c5da1bc6119719b1f'"
      ]
     },
     "execution_count": 4,
     "metadata": {},
     "output_type": "execute_result"
    }
   ],
   "source": [
    "\n",
    "# Create base URL and indicate imperial units\n",
    "url =( 'http://api.openweathermap.org/data/2.5/weather?units=Imperial&APPID=' + api_key)\n",
    "url"
   ]
  },
  {
   "cell_type": "code",
   "execution_count": null,
   "metadata": {},
   "outputs": [
    {
     "name": "stdout",
     "output_type": "stream",
     "text": [
      "------------------------------\n",
      " Beginning Data Retrieval \n",
      "------------------------------\n",
      "City number 1 of set1 complete. | cidreira\n",
      "City number 2 of set2 complete. | punta arenas\n",
      "City not found.Skipping...\n",
      "City number 4 of set4 complete. | moose factory\n",
      "City number 5 of set5 complete. | yerbogachen\n",
      "City number 6 of set6 complete. | waipawa\n",
      "City number 7 of set7 complete. | ushuaia\n",
      "City number 8 of set8 complete. | aripuana\n",
      "City number 9 of set9 complete. | bonavista\n",
      "City not found.Skipping...\n",
      "City number 11 of set11 complete. | luderitz\n",
      "City number 12 of set12 complete. | cape town\n",
      "City number 13 of set13 complete. | flinders\n",
      "City number 14 of set14 complete. | dali\n",
      "City number 15 of set15 complete. | rocha\n",
      "City number 16 of set16 complete. | chokurdakh\n",
      "City number 17 of set17 complete. | harper\n",
      "City number 18 of set18 complete. | bethel\n",
      "City not found.Skipping...\n",
      "City number 20 of set20 complete. | rikitea\n",
      "City number 21 of set21 complete. | hasaki\n",
      "City number 22 of set22 complete. | east london\n",
      "City number 23 of set23 complete. | puerto ayora\n",
      "City number 24 of set24 complete. | hithadhoo\n",
      "City number 25 of set25 complete. | malindi\n",
      "City number 26 of set26 complete. | khandyga\n",
      "City number 27 of set27 complete. | nikolskoye\n",
      "City number 28 of set28 complete. | sitka\n",
      "City number 29 of set29 complete. | mataura\n",
      "City number 30 of set30 complete. | omboue\n",
      "City number 31 of set31 complete. | yoichi\n",
      "City number 32 of set32 complete. | georgetown\n",
      "City number 33 of set33 complete. | kichmengskiy gorodok\n",
      "City number 34 of set34 complete. | flin flon\n",
      "City number 35 of set35 complete. | atuona\n",
      "City number 36 of set36 complete. | port elizabeth\n",
      "City not found.Skipping...\n",
      "City number 38 of set38 complete. | cochrane\n",
      "City not found.Skipping...\n",
      "City not found.Skipping...\n",
      "City number 41 of set41 complete. | mar del plata\n",
      "City number 42 of set42 complete. | tiksi\n",
      "City number 43 of set43 complete. | batagay\n",
      "City number 44 of set44 complete. | vryburg\n",
      "City number 45 of set45 complete. | busselton\n",
      "City number 46 of set46 complete. | ossora\n",
      "City number 47 of set47 complete. | tuktoyaktuk\n",
      "City not found.Skipping...\n",
      "City number 49 of set49 complete. | grindavik\n",
      "City number 50 of set50 complete. | kauhajoki\n",
      "City number 51 of set51 complete. | tasiilaq\n",
      "City number 52 of set52 complete. | nishihara\n",
      "City number 53 of set53 complete. | beringovskiy\n",
      "City number 54 of set54 complete. | barrie\n",
      "City number 55 of set55 complete. | albany\n",
      "City number 56 of set56 complete. | fortuna\n",
      "City number 57 of set57 complete. | douentza\n",
      "City number 58 of set58 complete. | new norfolk\n",
      "City number 59 of set59 complete. | clyde river\n",
      "City number 60 of set60 complete. | margate\n",
      "City number 61 of set61 complete. | hilo\n",
      "City number 62 of set62 complete. | mount gambier\n",
      "City number 63 of set63 complete. | sioux lookout\n",
      "City number 64 of set64 complete. | rawson\n",
      "City number 65 of set65 complete. | djambala\n",
      "City not found.Skipping...\n",
      "City number 67 of set67 complete. | carnarvon\n",
      "City number 68 of set68 complete. | ambilobe\n",
      "City not found.Skipping...\n",
      "City number 70 of set70 complete. | strezhevoy\n",
      "City number 71 of set71 complete. | vaini\n",
      "City number 72 of set72 complete. | avarua\n",
      "City number 73 of set73 complete. | yukhnov\n",
      "City number 74 of set74 complete. | dakar\n",
      "City number 75 of set75 complete. | hamilton\n",
      "City number 76 of set76 complete. | castro\n",
      "City number 77 of set77 complete. | saint george\n",
      "City number 78 of set78 complete. | kaitangata\n",
      "City number 79 of set79 complete. | port lincoln\n",
      "City number 80 of set80 complete. | jamestown\n",
      "City number 81 of set81 complete. | khani\n",
      "City number 82 of set82 complete. | chuy\n",
      "City number 83 of set83 complete. | atocha\n",
      "City number 84 of set84 complete. | wattegama\n",
      "City not found.Skipping...\n",
      "City number 86 of set86 complete. | faya\n",
      "City number 87 of set87 complete. | alice springs\n",
      "City number 88 of set88 complete. | pevek\n",
      "City number 89 of set89 complete. | cerro punta\n",
      "City number 90 of set90 complete. | mehamn\n",
      "City number 91 of set91 complete. | port moresby\n",
      "City number 92 of set92 complete. | petropavlovsk-kamchatskiy\n",
      "City number 93 of set93 complete. | armenia\n",
      "City number 94 of set94 complete. | kapaa\n",
      "City number 95 of set95 complete. | qaanaaq\n",
      "City number 96 of set96 complete. | tiko\n",
      "City number 97 of set97 complete. | thompson\n",
      "City number 98 of set98 complete. | saint-philippe\n",
      "City number 99 of set99 complete. | barcelos\n",
      "City number 100 of set100 complete. | hobart\n",
      "City number 101 of set101 complete. | hermanus\n",
      "City number 102 of set102 complete. | longkou\n",
      "City number 103 of set103 complete. | payo\n",
      "City number 104 of set104 complete. | dikson\n",
      "City number 105 of set105 complete. | northam\n",
      "City number 106 of set106 complete. | itarema\n",
      "City number 107 of set107 complete. | naze\n",
      "City number 108 of set108 complete. | quatre cocos\n",
      "City number 109 of set109 complete. | lebu\n",
      "City number 110 of set110 complete. | killybegs\n",
      "City number 111 of set111 complete. | orange cove\n",
      "City number 112 of set112 complete. | ribeira grande\n",
      "City number 113 of set113 complete. | norman wells\n",
      "City number 114 of set114 complete. | laurel\n",
      "City number 115 of set115 complete. | butaritari\n",
      "City number 116 of set116 complete. | awbari\n",
      "City number 117 of set117 complete. | puerto colombia\n",
      "City number 118 of set118 complete. | baruun-urt\n",
      "City number 119 of set119 complete. | yellowknife\n",
      "City number 120 of set120 complete. | san fernando\n",
      "City number 121 of set121 complete. | bluff\n",
      "City not found.Skipping...\n",
      "City number 123 of set123 complete. | port alfred\n",
      "City number 124 of set124 complete. | mulege\n",
      "City number 125 of set125 complete. | ugoofaaru\n",
      "City number 126 of set126 complete. | upernavik\n",
      "City number 127 of set127 complete. | portland\n",
      "City number 128 of set128 complete. | san carlos de bariloche\n",
      "City not found.Skipping...\n",
      "City number 130 of set130 complete. | komsomolskiy\n",
      "City number 131 of set131 complete. | husavik\n",
      "City not found.Skipping...\n",
      "City number 133 of set133 complete. | luganville\n",
      "City number 134 of set134 complete. | karaton\n",
      "City number 135 of set135 complete. | lorengau\n",
      "City number 136 of set136 complete. | souillac\n",
      "City number 137 of set137 complete. | riyadh\n",
      "City number 138 of set138 complete. | saskylakh\n",
      "City not found.Skipping...\n",
      "City number 140 of set140 complete. | pontal\n",
      "City number 141 of set141 complete. | iranshahr\n",
      "City number 142 of set142 complete. | bredasdorp\n",
      "City number 143 of set143 complete. | slavutych\n",
      "City number 144 of set144 complete. | the valley\n",
      "City number 145 of set145 complete. | hokitika\n",
      "City not found.Skipping...\n",
      "City number 147 of set147 complete. | curillo\n",
      "City number 148 of set148 complete. | spas-klepiki\n",
      "City not found.Skipping...\n",
      "City not found.Skipping...\n",
      "City not found.Skipping...\n",
      "City number 152 of set152 complete. | verkhoyansk\n",
      "City number 153 of set153 complete. | ilulissat\n"
     ]
    }
   ],
   "source": [
    "#Initiate counter for city number below\n",
    "number = 1\n",
    "set_count = 0\n",
    "\n",
    "#Lists for holding required items\n",
    "city_name = []\n",
    "lat = []\n",
    "lng = []\n",
    "temp = []\n",
    "humid = []\n",
    "clouds = []\n",
    "wind = []\n",
    "\n",
    "#Loop through each city, extract required items, and print result\n",
    "print('------------------------------')\n",
    "print(' Beginning Data Retrieval ')\n",
    "print('------------------------------')\n",
    "\n",
    "for city in cities:\n",
    "    set_count += 1\n",
    "    try:\n",
    "        city_data = (requests.get(url + '&q=' + city)).json()\n",
    "        city_name.append(city_data['name'])\n",
    "        lat.append(city_data['coord']['lat'])\n",
    "        lng.append(city_data['coord']['lon'])\n",
    "        temp.append(city_data['main']['temp'])\n",
    "        humid.append(city_data['main']['humidity'])\n",
    "        clouds.append(city_data['clouds']['all'])\n",
    "        wind.append(city_data['wind']['speed'])\n",
    "        print(f'City number {number} of set{set_count} complete. | {city}')\n",
    "        number = number + 1\n",
    "    \n",
    "    except KeyError:\n",
    "        print(f'City not found.Skipping...')\n",
    "        number = number + 1\n",
    "        \n",
    "print('------------------------------')\n",
    "print('End of Records')\n",
    "print('------------------------------')"
   ]
  },
  {
   "cell_type": "markdown",
   "metadata": {},
   "source": [
    "### Convert Raw Data to DataFrame\n",
    "* Export the city data into a .csv.\n",
    "* Display the DataFrame"
   ]
  },
  {
   "cell_type": "code",
   "execution_count": null,
   "metadata": {},
   "outputs": [],
   "source": []
  },
  {
   "cell_type": "code",
   "execution_count": null,
   "metadata": {},
   "outputs": [],
   "source": []
  },
  {
   "cell_type": "markdown",
   "metadata": {},
   "source": [
    "### Plotting the Data\n",
    "* Use proper labeling of the plots using plot titles (including date of analysis) and axes labels.\n",
    "* Save the plotted figures as .pngs."
   ]
  },
  {
   "cell_type": "markdown",
   "metadata": {},
   "source": [
    "#### Latitude vs. Temperature Plot"
   ]
  },
  {
   "cell_type": "code",
   "execution_count": null,
   "metadata": {},
   "outputs": [],
   "source": []
  },
  {
   "cell_type": "markdown",
   "metadata": {},
   "source": [
    "#### Latitude vs. Humidity Plot"
   ]
  },
  {
   "cell_type": "code",
   "execution_count": null,
   "metadata": {},
   "outputs": [],
   "source": []
  },
  {
   "cell_type": "markdown",
   "metadata": {},
   "source": [
    "#### Latitude vs. Cloudiness Plot"
   ]
  },
  {
   "cell_type": "code",
   "execution_count": null,
   "metadata": {},
   "outputs": [],
   "source": []
  },
  {
   "cell_type": "markdown",
   "metadata": {},
   "source": [
    "#### Latitude vs. Wind Speed Plot"
   ]
  },
  {
   "cell_type": "code",
   "execution_count": null,
   "metadata": {},
   "outputs": [],
   "source": []
  },
  {
   "cell_type": "code",
   "execution_count": null,
   "metadata": {},
   "outputs": [],
   "source": []
  }
 ],
 "metadata": {
  "anaconda-cloud": {},
  "kernelspec": {
   "display_name": "Python 3",
   "language": "python",
   "name": "python3"
  }
 },
 "nbformat": 4,
 "nbformat_minor": 2
}
